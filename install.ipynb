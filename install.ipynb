{
 "cells": [
  {
   "cell_type": "code",
   "execution_count": 3,
   "metadata": {},
   "outputs": [
    {
     "name": "stdout",
     "output_type": "stream",
     "text": [
      "Collecting psycopg2\n",
      "  Downloading psycopg2-2.9.9-cp311-cp311-win_amd64.whl.metadata (4.5 kB)\n",
      "Downloading psycopg2-2.9.9-cp311-cp311-win_amd64.whl (1.2 MB)\n",
      "   ---------------------------------------- 0.0/1.2 MB ? eta -:--:--\n",
      "   - -------------------------------------- 0.0/1.2 MB 1.4 MB/s eta 0:00:01\n",
      "   ----------- ---------------------------- 0.3/1.2 MB 5.1 MB/s eta 0:00:01\n",
      "   ------------------------ --------------- 0.7/1.2 MB 6.4 MB/s eta 0:00:01\n",
      "   ----------------------------- ---------- 0.9/1.2 MB 5.5 MB/s eta 0:00:01\n",
      "   --------------------------------- ------ 1.0/1.2 MB 5.2 MB/s eta 0:00:01\n",
      "   ----------------------------------- ---- 1.0/1.2 MB 4.1 MB/s eta 0:00:01\n",
      "   -------------------------------------- - 1.1/1.2 MB 3.7 MB/s eta 0:00:01\n",
      "   ---------------------------------------- 1.2/1.2 MB 3.5 MB/s eta 0:00:00\n",
      "Installing collected packages: psycopg2\n",
      "Successfully installed psycopg2-2.9.9\n",
      "Note: you may need to restart the kernel to use updated packages.\n"
     ]
    }
   ],
   "source": [
    "pip install sqlalchemy\n",
    "pip install openpyxl\n",
    "pip install psycopg2"
   ]
  }
 ],
 "metadata": {
  "kernelspec": {
   "display_name": "base",
   "language": "python",
   "name": "python3"
  },
  "language_info": {
   "codemirror_mode": {
    "name": "ipython",
    "version": 3
   },
   "file_extension": ".py",
   "mimetype": "text/x-python",
   "name": "python",
   "nbconvert_exporter": "python",
   "pygments_lexer": "ipython3",
   "version": "3.11.7"
  }
 },
 "nbformat": 4,
 "nbformat_minor": 2
}
